{
 "cells": [
  {
   "cell_type": "markdown",
   "metadata": {},
   "source": [
    "# Métodos de Aprendizaje Automático\n",
    "## Por: Luis Alberto Chavarría Zamora\n",
    "\n",
    "### Dataset: https://archive.ics.uci.edu/ml/machine-learning-databases/abalone/abalone.data\n",
    "\n",
    "Este dataset es aportado por la división de recursos marinos de los laboratorios de recursos marinos de Taroona en Department of Primary Industry and Fisheries, Tasmania. Los datos son del año 1995. \n",
    "\n",
    "Estos datos son utilizados para predecir la edad del abalone, un tipo de molusco que en español se conocen como orejas de mar o abulones, es un ser vivo con carne altamente estimada y ampliamente consumida en la Asia Oriental, Estados Unidos y México. La edad del abalone es predicha a partir mediciones físicas donde se corta el cono y se cuentan el número de anillos en un microscopio, esta tarea se indica que consume mucho tiempo y es bastante aburrida al parecer. Por estas razones es necesario métodos más sencillos de obtener como el clima de la zona, el lugar. La base de datos ya fue procesada para eliminar datos faltantes.\n",
    "\n",
    "Este problema es de clasificación donde se debe clasificar datos como: sexo, largo, diametro, altura, peso absoluto, peso de su carne, peso de la viscera después de haber sangrado, peso de la concha después de haber sido secada. Luego, con estos datos se debe obtener el número de anillos. Se tienen 4177 datos con rango de 1~29, excepto 28, los cuales tienen una distribución bastante similar a una gausiana o normal, donde en los límites se observan valores inferiores al centro.\n",
    "\n",
    "Estos datos ya han sido procesados por otras fuentes, sin embargo han tenido resultados poco alentadores como por ejemplo:\n",
    "\n",
    "- Sam Waugh (1995) \"Extending and benchmarking Cascade-Correlation\", PhD thesis, Computer Science Department, University of Tasmania. Usaron 3133 datos entrenamiento y 1044 de prueba. Se usaron métodos de inteligencia artificial como redes neuronales y otros como knn de las siguiente manera:\n",
    "\n",
    " - Cascade-Correlation (no hidden nodes) con 24.86% de acierto.\n",
    " - Cascade-Correlation (5 hidden nodes) con 26.25% de acierto.\n",
    " - C4.5 con 21.5% de acierto.\n",
    " - knn con k=5 con un 3.57%.\n",
    " \n",
    "- David Clark, Zoltan Schreter, Anthony Adams \"A Quantitative Comparison of Dystal and Backpropagation\", submitted to the Australian Conference on Neural Networks (ACNN'96). En este el conjunto de datos fue agrupado en tres categorías de clasificación: 1~8 anillos; 9 y 10; y finalmente de 11 en adelante. Se usaron los siguientes algoritmos:\n",
    "\n",
    " - Backprop con 64% de acierto.\n",
    " - Dystal con 55% de acierto.\n",
    " - Cascade-Correlation (no hidden nodes) con 61.40% de acierto.\n",
    " - Cascade-Correlation (5 hidden nodes) con 65.61% de acierto.\n",
    " - C4.5 con 59.2% de acierto.\n",
    " - knn con k=5, acertando un 62.46%\n",
    " \n",
    "### A través del análisis de las curvas se verá a continuación que el mejor valor para evitar overfitting o underfitting es con una distribución de datos de entrenamiento de 75% y 25% para prueba o dicho de otra forma 3133 de entrenamiento y 1044 de prueba.\n",
    " \n",
    "En este documento se intentaron mejorar las predicciones con metodos de aprendizaje supervisado, sin agrupar los anillos, sino individualmente, tratando de predecir el número de anillos. Se espera mejorar los resultados mostrados anteriormente."
   ]
  },
  {
   "cell_type": "markdown",
   "metadata": {},
   "source": [
    "# Preprocesamiento de datos\n",
    "\n",
    "En esta etapa se cargan los datos y se acondicionan. Los datos tienen valores continuos, excepto el sexo que lo clasifican entre M, F y I, que significan masculino, femenino e infante, respectivamente"
   ]
  },
  {
   "cell_type": "code",
   "execution_count": 1,
   "metadata": {},
   "outputs": [],
   "source": [
    "#Se cargan las bibliotecas necesarias para el trabajo\n",
    "from sklearn import preprocessing\n",
    "import matplotlib\n",
    "import numpy as np\n",
    "from sklearn.preprocessing import LabelEncoder\n",
    "from sklearn.preprocessing import OneHotEncoder\n",
    "import pandas as pd\n",
    "import matplotlib.pyplot as plt\n",
    "from sklearn.decomposition import PCA\n",
    "\n",
    "# Se apagan los warnings para evitar las alertas de posibles cambios de versión en Python3\n",
    "import warnings\n",
    "warnings.filterwarnings('ignore', category=UserWarning, append=True)\n",
    "\n",
    "#Dirección del set de datos.\n",
    "url = \"https://archive.ics.uci.edu/ml/machine-learning-databases/abalone/abalone.data\"\n",
    "# Se carga el dataset como un csv, a continuación se muestran los datos de cada columna\n",
    "df = pd.read_csv(url, names=['sex','length','diameter','height','whole height','shucked weight',\n",
    "                             'viscera weight','shell weight','rings'])\n",
    "#Se imprimen las primeras 10 filas de información importada.\n",
    "\n",
    "# Se indican el significado de cada columna o feature\n",
    "features = ['sex','length','diameter','height','whole height','shucked weight','viscera weight','shell weight']\n",
    "\n",
    "# Se separan los datos cargados en atributos (x) y clases (y)\n",
    "x = df.loc[:,features].values\n",
    "y = df.loc[:,['rings']].values\n",
    "# Se usa ravel para colocar los datos en una sola columna\n",
    "y = y.ravel()"
   ]
  },
  {
   "cell_type": "markdown",
   "metadata": {},
   "source": [
    "Como los datos de sexo son letras, es necesario utilizar un label encoder para que lo coloque ordinalmente, para que por ejemplo sea: M -> 1, F -> 2 e I -> 3."
   ]
  },
  {
   "cell_type": "code",
   "execution_count": 2,
   "metadata": {},
   "outputs": [],
   "source": [
    "le = preprocessing.LabelEncoder()\n",
    "x[:,0] = le.fit_transform(x[:,0])"
   ]
  },
  {
   "cell_type": "markdown",
   "metadata": {},
   "source": [
    "Como se indicó previamente, los datos a simple vista tienen una distribución normal o gausiana, por esta razón se utilizan un escalamiento estándar."
   ]
  },
  {
   "cell_type": "code",
   "execution_count": 3,
   "metadata": {},
   "outputs": [],
   "source": [
    "from sklearn.preprocessing import StandardScaler\n",
    "x = StandardScaler().fit_transform(x)\n",
    "# Aparece un warning pues la información se convirtió al tipo float64"
   ]
  },
  {
   "cell_type": "markdown",
   "metadata": {},
   "source": [
    "Se va a realizar un preprocesado a través de PCA para disminuir las dimensiones a analizar (conseguir menos de 8)."
   ]
  },
  {
   "cell_type": "code",
   "execution_count": 4,
   "metadata": {},
   "outputs": [
    {
     "data": {
      "image/png": "[encoded data removed]",
      "text/plain": [
       "<Figure size 576x576 with 1 Axes>"
      ]
     },
     "metadata": {},
     "output_type": "display_data"
    }
   ],
   "source": [
    "# Se extraen todas las componentes de los datos, que son 8\n",
    "n_atributes = x.shape[1]\n",
    "\n",
    "# Se extrae el PCA y se introducen en los datos\n",
    "pca = PCA(n_components = n_atributes)\n",
    "principalComponents = pca.fit_transform(x)\n",
    "\n",
    "# Nombra cada una de las componentes del PCA\n",
    "pca_features = ['PCA' + str(i) for i in range(n_atributes)]\n",
    "principalDf = pd.DataFrame(data = principalComponents, columns = pca_features)\n",
    "\n",
    "# Grafica los datos\n",
    "fig = plt.figure(figsize = (8,8))\n",
    "ax = fig.add_subplot(1,1,1) \n",
    "#Grafica las componentes de PCA según su porcentaje\n",
    "ax.bar(range(n_atributes),pca.explained_variance_ratio_)\n",
    "ax.set_xlabel('Componentes', fontsize = 15)\n",
    "ax.set_xticklabels(pca_features)\n",
    "ax.set_ylabel('Porcentaje (%)')\n",
    "ax.set_title('Proporción componentes PCA',fontsize = 20)\n",
    "ax.grid()"
   ]
  },
  {
   "cell_type": "markdown",
   "metadata": {},
   "source": [
    "Se puede ver que las componentes más importantes del PCA son las dos primeras, pues entre ambas pueden representar cerca del 90% de los datos, como se ve a continuación con la suma acumulativa:"
   ]
  },
  {
   "cell_type": "code",
   "execution_count": 5,
   "metadata": {},
   "outputs": [
    {
     "name": "stdout",
     "output_type": "stream",
     "text": [
      "[0.7945299  0.91958372 0.9544069  0.97530572 0.98953509 0.99757707\n",
      " 0.99916792 1.        ]\n"
     ]
    }
   ],
   "source": [
    "print(pca.explained_variance_ratio_.cumsum())"
   ]
  },
  {
   "cell_type": "markdown",
   "metadata": {},
   "source": [
    "Se procede a graficar los datos"
   ]
  },
  {
   "cell_type": "code",
   "execution_count": 6,
   "metadata": {},
   "outputs": [
    {
     "data": {
      "image/png": "[encoded data removed]",
      "text/plain": [
       "<Figure size 576x576 with 1 Axes>"
      ]
     },
     "metadata": {},
     "output_type": "display_data"
    }
   ],
   "source": [
    "from sklearn.utils import column_or_1d\n",
    "# Se escoge graficar solo dos componentes\n",
    "pca = PCA(n_components=2)\n",
    "principalComponents = pca.fit_transform(x)\n",
    "\n",
    "principalDf = pd.DataFrame(data = principalComponents)\n",
    "\n",
    "le = preprocessing.LabelEncoder()\n",
    "le.fit(df[['rings']])\n",
    "targets = le.classes_.ravel()\n",
    "\n",
    "#Se concatenan las componentes de PCA con los targets\n",
    "finalDf = pd.concat([principalDf, df[['rings']]], axis = 1)\n",
    "\n",
    "fig = plt.figure(figsize = (8,8))\n",
    "ax = fig.add_subplot(1,1,1) \n",
    "ax.set_xlabel('Principal Component 1', fontsize = 15)\n",
    "ax.set_ylabel('Principal Component 2', fontsize = 15)\n",
    "ax.set_title('2 componentes PCA Abalone', fontsize = 20)\n",
    "\n",
    "# Para agrupar en colores los resultados se recorren todos los targets (29)\n",
    "for target in targets:\n",
    "    # Busca los indices que sean iguales al target\n",
    "    indices = finalDf['rings'] == target\n",
    "    # Grafica los puntos encontrados con un color aleatorio, pero igual para los del mismo target\n",
    "    ax.scatter(finalDf.loc[indices, 0]\n",
    "               , finalDf.loc[indices, 1]\n",
    "               , c = np.random.rand(3,)\n",
    "               , s = 50)\n",
    "    \n",
    "#Se enciende el grid y se muestra que significa cada color\n",
    "ax.legend(targets)\n",
    "ax.grid()"
   ]
  },
  {
   "cell_type": "markdown",
   "metadata": {},
   "source": [
    "Se puede ver que hay tres grupos bien definidos, más sin embargo, dentro de sí mismos tienen mezclados varios puntos, a continuación se va a comparar el rendimiento que tiene este preprocesamiento contra las 8 componentes procesadas a través de algunos métodos de aprendizaje automático."
   ]
  },
  {
   "cell_type": "markdown",
   "metadata": {},
   "source": [
    "# Métodos de aprendizaje automático\n",
    "\n",
    "A continuación se van a dividir los datos en datos de entrenamiento y datos para comprobación. Se van a usar la misma proporción de datos que en las investigaciones anteriores, sin embargo se va a analizar el número de datos a utilizar para evaluar si existe overfitting o underfitting"
   ]
  },
  {
   "cell_type": "code",
   "execution_count": 7,
   "metadata": {},
   "outputs": [
    {
     "name": "stderr",
     "output_type": "stream",
     "text": [
      "/home/luis/miniconda3/envs/py3/lib/python3.6/site-packages/sklearn/cross_validation.py:41: DeprecationWarning: This module was deprecated in version 0.18 in favor of the model_selection module into which all the refactored classes and functions are moved. Also note that the interface of the new CV iterators are different from that of this module. This module will be removed in 0.20.\n",
      "  \"This module will be removed in 0.20.\", DeprecationWarning)\n"
     ]
    }
   ],
   "source": [
    "from sklearn.cross_validation import train_test_split\n",
    "\n",
    "# Se van a tener 2 set de entrenamiento y prueba, donde los primeros son sin preprocesamiento PCA \n",
    "# y los otros con preprocesamiento PCA. Se usa el random_state para asegurar que se usen los mismos\n",
    "# datos al ser generados por la misma llave.\n",
    "\n",
    "# Se dividen los datos, donde un 25% son de prueba y el resto de entrenamiento para manejar la misma\n",
    "# proporción de datasets con respecto a las investigaciones.\n",
    "\n",
    "# Datos sin preprocesamiento PCA.\n",
    "X_train, X_test, y_train, y_test = train_test_split(x, y, test_size=0.25, random_state=50)\n",
    "\n",
    "x_pca = principalDf\n",
    "y_pca = df[['rings']]\n",
    "\n",
    "# Datos con preprocesamiento PCA.\n",
    "X_train_PCA, X_test_PCA, y_train_PCA, y_test_PCA = train_test_split(x_pca, y_pca, test_size=0.25\n",
    "                                                                    ,random_state=50)"
   ]
  },
  {
   "cell_type": "code",
   "execution_count": 8,
   "metadata": {},
   "outputs": [],
   "source": [
    "# Función para plotear la curva de aprendizaje\n",
    "from sklearn.model_selection import learning_curve\n",
    "from sklearn.model_selection import ShuffleSplit\n",
    "\n",
    "def plot_learning_curve(estimator, title, X, y, ylim=None, cv=None,\n",
    "                        n_jobs=1, train_sizes=np.linspace(.1, 1.0, 20)):\n",
    "    plt.figure()\n",
    "    plt.title(title)\n",
    "    if ylim is not None:\n",
    "        plt.ylim(*ylim)\n",
    "    plt.xlabel(\"Training examples\")\n",
    "    plt.ylabel(\"Score\")\n",
    "    train_sizes, train_scores, test_scores = learning_curve(\n",
    "        estimator, X, y, cv=cv, n_jobs=n_jobs, train_sizes=train_sizes)\n",
    "    train_scores_mean = np.mean(train_scores, axis=1)\n",
    "    train_scores_std = np.std(train_scores, axis=1)\n",
    "    test_scores_mean = np.mean(test_scores, axis=1)\n",
    "    test_scores_std = np.std(test_scores, axis=1)\n",
    "    plt.grid()\n",
    "\n",
    "    plt.fill_between(train_sizes, train_scores_mean - train_scores_std,\n",
    "                     train_scores_mean + train_scores_std, alpha=0.1,\n",
    "                     color=\"r\")\n",
    "    plt.fill_between(train_sizes, test_scores_mean - test_scores_std,\n",
    "                     test_scores_mean + test_scores_std, alpha=0.1, color=\"g\")\n",
    "    plt.plot(train_sizes, train_scores_mean, 'o-', color=\"r\",\n",
    "             label=\"Training score\")\n",
    "    plt.plot(train_sizes, test_scores_mean, 'o-', color=\"g\",\n",
    "             label=\"Cross-validation score\")\n",
    "\n",
    "    plt.legend(loc=\"best\")\n",
    "    return plt"
   ]
  },
  {
   "cell_type": "markdown",
   "metadata": {},
   "source": [
    "## KNN\n",
    "\n",
    "A continuación se calcula la curva de aprendizaje de los datos con el método de KNN, donde se nota que alrededor de 3000 o más."
   ]
  },
  {
   "cell_type": "code",
   "execution_count": 9,
   "metadata": {},
   "outputs": [
    {
     "data": {
      "image/png": "[encoded data removed]",
      "text/plain": [
       "<Figure size 432x288 with 1 Axes>"
      ]
     },
     "metadata": {},
     "output_type": "display_data"
    }
   ],
   "source": [
    "from sklearn.neighbors import KNeighborsClassifier\n",
    "\n",
    "# Se usan 200 vecinos porque fue el que dio mejores resultados\n",
    "knn = KNeighborsClassifier(n_neighbors=200,algorithm = 'auto')\n",
    "\n",
    "title = \"Learning Curves (KNN)\"\n",
    "# Cross validation with 100 iterations to get smoother mean test and train\n",
    "# score curves, each time with 20% data randomly selected as a validation set.\n",
    "cv = ShuffleSplit(n_splits=10, test_size=0.25, random_state=0)\n",
    "estimator = knn\n",
    "plot_learning_curve(estimator, title, x, y, ylim=(0.0, 1.0), cv=cv, n_jobs=4)\n",
    "\n",
    "plt.show()"
   ]
  },
  {
   "cell_type": "code",
   "execution_count": 10,
   "metadata": {},
   "outputs": [
    {
     "ename": "KeyboardInterrupt",
     "evalue": "",
     "output_type": "error",
     "traceback": [
      "\u001b[0;31m---------------------------------------------------------------------------\u001b[0m",
      "\u001b[0;31mKeyboardInterrupt\u001b[0m                         Traceback (most recent call last)",
      "\u001b[0;32m<ipython-input-10-8975379ac3ce>\u001b[0m in \u001b[0;36m<module>\u001b[0;34m()\u001b[0m\n\u001b[1;32m      1\u001b[0m \u001b[0mtitle\u001b[0m \u001b[0;34m=\u001b[0m \u001b[0;34m\"Learning Curves with PCA (KNN)\"\u001b[0m\u001b[0;34m\u001b[0m\u001b[0m\n\u001b[0;32m----> 2\u001b[0;31m \u001b[0mplot_learning_curve\u001b[0m\u001b[0;34m(\u001b[0m\u001b[0mestimator\u001b[0m\u001b[0;34m,\u001b[0m \u001b[0mtitle\u001b[0m\u001b[0;34m,\u001b[0m \u001b[0mx_pca\u001b[0m\u001b[0;34m,\u001b[0m \u001b[0my_pca\u001b[0m\u001b[0;34m,\u001b[0m \u001b[0mylim\u001b[0m\u001b[0;34m=\u001b[0m\u001b[0;34m(\u001b[0m\u001b[0;36m0.0\u001b[0m\u001b[0;34m,\u001b[0m \u001b[0;36m1.0\u001b[0m\u001b[0;34m)\u001b[0m\u001b[0;34m,\u001b[0m \u001b[0mcv\u001b[0m\u001b[0;34m=\u001b[0m\u001b[0mcv\u001b[0m\u001b[0;34m,\u001b[0m \u001b[0mn_jobs\u001b[0m\u001b[0;34m=\u001b[0m\u001b[0;36m4\u001b[0m\u001b[0;34m)\u001b[0m\u001b[0;34m\u001b[0m\u001b[0m\n\u001b[0m\u001b[1;32m      3\u001b[0m \u001b[0;34m\u001b[0m\u001b[0m\n\u001b[1;32m      4\u001b[0m \u001b[0mplt\u001b[0m\u001b[0;34m.\u001b[0m\u001b[0mshow\u001b[0m\u001b[0;34m(\u001b[0m\u001b[0;34m)\u001b[0m\u001b[0;34m\u001b[0m\u001b[0m\n",
      "\u001b[0;32m<ipython-input-8-b13860e3c58d>\u001b[0m in \u001b[0;36mplot_learning_curve\u001b[0;34m(estimator, title, X, y, ylim, cv, n_jobs, train_sizes)\u001b[0m\n\u001b[1;32m     12\u001b[0m     \u001b[0mplt\u001b[0m\u001b[0;34m.\u001b[0m\u001b[0mylabel\u001b[0m\u001b[0;34m(\u001b[0m\u001b[0;34m\"Score\"\u001b[0m\u001b[0;34m)\u001b[0m\u001b[0;34m\u001b[0m\u001b[0m\n\u001b[1;32m     13\u001b[0m     train_sizes, train_scores, test_scores = learning_curve(\n\u001b[0;32m---> 14\u001b[0;31m         estimator, X, y, cv=cv, n_jobs=n_jobs, train_sizes=train_sizes)\n\u001b[0m\u001b[1;32m     15\u001b[0m     \u001b[0mtrain_scores_mean\u001b[0m \u001b[0;34m=\u001b[0m \u001b[0mnp\u001b[0m\u001b[0;34m.\u001b[0m\u001b[0mmean\u001b[0m\u001b[0;34m(\u001b[0m\u001b[0mtrain_scores\u001b[0m\u001b[0;34m,\u001b[0m \u001b[0maxis\u001b[0m\u001b[0;34m=\u001b[0m\u001b[0;36m1\u001b[0m\u001b[0;34m)\u001b[0m\u001b[0;34m\u001b[0m\u001b[0m\n\u001b[1;32m     16\u001b[0m     \u001b[0mtrain_scores_std\u001b[0m \u001b[0;34m=\u001b[0m \u001b[0mnp\u001b[0m\u001b[0;34m.\u001b[0m\u001b[0mstd\u001b[0m\u001b[0;34m(\u001b[0m\u001b[0mtrain_scores\u001b[0m\u001b[0;34m,\u001b[0m \u001b[0maxis\u001b[0m\u001b[0;34m=\u001b[0m\u001b[0;36m1\u001b[0m\u001b[0;34m)\u001b[0m\u001b[0;34m\u001b[0m\u001b[0m\n",
      "\u001b[0;32m~/miniconda3/envs/py3/lib/python3.6/site-packages/sklearn/model_selection/_validation.py\u001b[0m in \u001b[0;36mlearning_curve\u001b[0;34m(estimator, X, y, groups, train_sizes, cv, scoring, exploit_incremental_learning, n_jobs, pre_dispatch, verbose, shuffle, random_state)\u001b[0m\n\u001b[1;32m   1126\u001b[0m             \u001b[0mclone\u001b[0m\u001b[0;34m(\u001b[0m\u001b[0mestimator\u001b[0m\u001b[0;34m)\u001b[0m\u001b[0;34m,\u001b[0m \u001b[0mX\u001b[0m\u001b[0;34m,\u001b[0m \u001b[0my\u001b[0m\u001b[0;34m,\u001b[0m \u001b[0mscorer\u001b[0m\u001b[0;34m,\u001b[0m \u001b[0mtrain\u001b[0m\u001b[0;34m,\u001b[0m \u001b[0mtest\u001b[0m\u001b[0;34m,\u001b[0m\u001b[0;34m\u001b[0m\u001b[0m\n\u001b[1;32m   1127\u001b[0m             verbose, parameters=None, fit_params=None, return_train_score=True)\n\u001b[0;32m-> 1128\u001b[0;31m             for train, test in train_test_proportions)\n\u001b[0m\u001b[1;32m   1129\u001b[0m         \u001b[0mout\u001b[0m \u001b[0;34m=\u001b[0m \u001b[0mnp\u001b[0m\u001b[0;34m.\u001b[0m\u001b[0marray\u001b[0m\u001b[0;34m(\u001b[0m\u001b[0mout\u001b[0m\u001b[0;34m)\u001b[0m\u001b[0;34m\u001b[0m\u001b[0m\n\u001b[1;32m   1130\u001b[0m         \u001b[0mn_cv_folds\u001b[0m \u001b[0;34m=\u001b[0m \u001b[0mout\u001b[0m\u001b[0;34m.\u001b[0m\u001b[0mshape\u001b[0m\u001b[0;34m[\u001b[0m\u001b[0;36m0\u001b[0m\u001b[0;34m]\u001b[0m \u001b[0;34m//\u001b[0m \u001b[0mn_unique_ticks\u001b[0m\u001b[0;34m\u001b[0m\u001b[0m\n",
      "\u001b[0;32m~/miniconda3/envs/py3/lib/python3.6/site-packages/sklearn/externals/joblib/parallel.py\u001b[0m in \u001b[0;36m__call__\u001b[0;34m(self, iterable)\u001b[0m\n\u001b[1;32m    787\u001b[0m                 \u001b[0;31m# consumption.\u001b[0m\u001b[0;34m\u001b[0m\u001b[0;34m\u001b[0m\u001b[0m\n\u001b[1;32m    788\u001b[0m                 \u001b[0mself\u001b[0m\u001b[0;34m.\u001b[0m\u001b[0m_iterating\u001b[0m \u001b[0;34m=\u001b[0m \u001b[0;32mFalse\u001b[0m\u001b[0;34m\u001b[0m\u001b[0m\n\u001b[0;32m--> 789\u001b[0;31m             \u001b[0mself\u001b[0m\u001b[0;34m.\u001b[0m\u001b[0mretrieve\u001b[0m\u001b[0;34m(\u001b[0m\u001b[0;34m)\u001b[0m\u001b[0;34m\u001b[0m\u001b[0m\n\u001b[0m\u001b[1;32m    790\u001b[0m             \u001b[0;31m# Make sure that we get a last message telling us we are done\u001b[0m\u001b[0;34m\u001b[0m\u001b[0;34m\u001b[0m\u001b[0m\n\u001b[1;32m    791\u001b[0m             \u001b[0melapsed_time\u001b[0m \u001b[0;34m=\u001b[0m \u001b[0mtime\u001b[0m\u001b[0;34m.\u001b[0m\u001b[0mtime\u001b[0m\u001b[0;34m(\u001b[0m\u001b[0;34m)\u001b[0m \u001b[0;34m-\u001b[0m \u001b[0mself\u001b[0m\u001b[0;34m.\u001b[0m\u001b[0m_start_time\u001b[0m\u001b[0;34m\u001b[0m\u001b[0m\n",
      "\u001b[0;32m~/miniconda3/envs/py3/lib/python3.6/site-packages/sklearn/externals/joblib/parallel.py\u001b[0m in \u001b[0;36mretrieve\u001b[0;34m(self)\u001b[0m\n\u001b[1;32m    697\u001b[0m             \u001b[0;32mtry\u001b[0m\u001b[0;34m:\u001b[0m\u001b[0;34m\u001b[0m\u001b[0m\n\u001b[1;32m    698\u001b[0m                 \u001b[0;32mif\u001b[0m \u001b[0mgetattr\u001b[0m\u001b[0;34m(\u001b[0m\u001b[0mself\u001b[0m\u001b[0;34m.\u001b[0m\u001b[0m_backend\u001b[0m\u001b[0;34m,\u001b[0m \u001b[0;34m'supports_timeout'\u001b[0m\u001b[0;34m,\u001b[0m \u001b[0;32mFalse\u001b[0m\u001b[0;34m)\u001b[0m\u001b[0;34m:\u001b[0m\u001b[0;34m\u001b[0m\u001b[0m\n\u001b[0;32m--> 699\u001b[0;31m                     \u001b[0mself\u001b[0m\u001b[0;34m.\u001b[0m\u001b[0m_output\u001b[0m\u001b[0;34m.\u001b[0m\u001b[0mextend\u001b[0m\u001b[0;34m(\u001b[0m\u001b[0mjob\u001b[0m\u001b[0;34m.\u001b[0m\u001b[0mget\u001b[0m\u001b[0;34m(\u001b[0m\u001b[0mtimeout\u001b[0m\u001b[0;34m=\u001b[0m\u001b[0mself\u001b[0m\u001b[0;34m.\u001b[0m\u001b[0mtimeout\u001b[0m\u001b[0;34m)\u001b[0m\u001b[0;34m)\u001b[0m\u001b[0;34m\u001b[0m\u001b[0m\n\u001b[0m\u001b[1;32m    700\u001b[0m                 \u001b[0;32melse\u001b[0m\u001b[0;34m:\u001b[0m\u001b[0;34m\u001b[0m\u001b[0m\n\u001b[1;32m    701\u001b[0m                     \u001b[0mself\u001b[0m\u001b[0;34m.\u001b[0m\u001b[0m_output\u001b[0m\u001b[0;34m.\u001b[0m\u001b[0mextend\u001b[0m\u001b[0;34m(\u001b[0m\u001b[0mjob\u001b[0m\u001b[0;34m.\u001b[0m\u001b[0mget\u001b[0m\u001b[0;34m(\u001b[0m\u001b[0;34m)\u001b[0m\u001b[0;34m)\u001b[0m\u001b[0;34m\u001b[0m\u001b[0m\n",
      "\u001b[0;32m~/miniconda3/envs/py3/lib/python3.6/multiprocessing/pool.py\u001b[0m in \u001b[0;36mget\u001b[0;34m(self, timeout)\u001b[0m\n\u001b[1;32m    636\u001b[0m \u001b[0;34m\u001b[0m\u001b[0m\n\u001b[1;32m    637\u001b[0m     \u001b[0;32mdef\u001b[0m \u001b[0mget\u001b[0m\u001b[0;34m(\u001b[0m\u001b[0mself\u001b[0m\u001b[0;34m,\u001b[0m \u001b[0mtimeout\u001b[0m\u001b[0;34m=\u001b[0m\u001b[0;32mNone\u001b[0m\u001b[0;34m)\u001b[0m\u001b[0;34m:\u001b[0m\u001b[0;34m\u001b[0m\u001b[0m\n\u001b[0;32m--> 638\u001b[0;31m         \u001b[0mself\u001b[0m\u001b[0;34m.\u001b[0m\u001b[0mwait\u001b[0m\u001b[0;34m(\u001b[0m\u001b[0mtimeout\u001b[0m\u001b[0;34m)\u001b[0m\u001b[0;34m\u001b[0m\u001b[0m\n\u001b[0m\u001b[1;32m    639\u001b[0m         \u001b[0;32mif\u001b[0m \u001b[0;32mnot\u001b[0m \u001b[0mself\u001b[0m\u001b[0;34m.\u001b[0m\u001b[0mready\u001b[0m\u001b[0;34m(\u001b[0m\u001b[0;34m)\u001b[0m\u001b[0;34m:\u001b[0m\u001b[0;34m\u001b[0m\u001b[0m\n\u001b[1;32m    640\u001b[0m             \u001b[0;32mraise\u001b[0m \u001b[0mTimeoutError\u001b[0m\u001b[0;34m\u001b[0m\u001b[0m\n",
      "\u001b[0;32m~/miniconda3/envs/py3/lib/python3.6/multiprocessing/pool.py\u001b[0m in \u001b[0;36mwait\u001b[0;34m(self, timeout)\u001b[0m\n\u001b[1;32m    633\u001b[0m \u001b[0;34m\u001b[0m\u001b[0m\n\u001b[1;32m    634\u001b[0m     \u001b[0;32mdef\u001b[0m \u001b[0mwait\u001b[0m\u001b[0;34m(\u001b[0m\u001b[0mself\u001b[0m\u001b[0;34m,\u001b[0m \u001b[0mtimeout\u001b[0m\u001b[0;34m=\u001b[0m\u001b[0;32mNone\u001b[0m\u001b[0;34m)\u001b[0m\u001b[0;34m:\u001b[0m\u001b[0;34m\u001b[0m\u001b[0m\n\u001b[0;32m--> 635\u001b[0;31m         \u001b[0mself\u001b[0m\u001b[0;34m.\u001b[0m\u001b[0m_event\u001b[0m\u001b[0;34m.\u001b[0m\u001b[0mwait\u001b[0m\u001b[0;34m(\u001b[0m\u001b[0mtimeout\u001b[0m\u001b[0;34m)\u001b[0m\u001b[0;34m\u001b[0m\u001b[0m\n\u001b[0m\u001b[1;32m    636\u001b[0m \u001b[0;34m\u001b[0m\u001b[0m\n\u001b[1;32m    637\u001b[0m     \u001b[0;32mdef\u001b[0m \u001b[0mget\u001b[0m\u001b[0;34m(\u001b[0m\u001b[0mself\u001b[0m\u001b[0;34m,\u001b[0m \u001b[0mtimeout\u001b[0m\u001b[0;34m=\u001b[0m\u001b[0;32mNone\u001b[0m\u001b[0;34m)\u001b[0m\u001b[0;34m:\u001b[0m\u001b[0;34m\u001b[0m\u001b[0m\n",
      "\u001b[0;32m~/miniconda3/envs/py3/lib/python3.6/threading.py\u001b[0m in \u001b[0;36mwait\u001b[0;34m(self, timeout)\u001b[0m\n\u001b[1;32m    549\u001b[0m             \u001b[0msignaled\u001b[0m \u001b[0;34m=\u001b[0m \u001b[0mself\u001b[0m\u001b[0;34m.\u001b[0m\u001b[0m_flag\u001b[0m\u001b[0;34m\u001b[0m\u001b[0m\n\u001b[1;32m    550\u001b[0m             \u001b[0;32mif\u001b[0m \u001b[0;32mnot\u001b[0m \u001b[0msignaled\u001b[0m\u001b[0;34m:\u001b[0m\u001b[0;34m\u001b[0m\u001b[0m\n\u001b[0;32m--> 551\u001b[0;31m                 \u001b[0msignaled\u001b[0m \u001b[0;34m=\u001b[0m \u001b[0mself\u001b[0m\u001b[0;34m.\u001b[0m\u001b[0m_cond\u001b[0m\u001b[0;34m.\u001b[0m\u001b[0mwait\u001b[0m\u001b[0;34m(\u001b[0m\u001b[0mtimeout\u001b[0m\u001b[0;34m)\u001b[0m\u001b[0;34m\u001b[0m\u001b[0m\n\u001b[0m\u001b[1;32m    552\u001b[0m             \u001b[0;32mreturn\u001b[0m \u001b[0msignaled\u001b[0m\u001b[0;34m\u001b[0m\u001b[0m\n\u001b[1;32m    553\u001b[0m \u001b[0;34m\u001b[0m\u001b[0m\n",
      "\u001b[0;32m~/miniconda3/envs/py3/lib/python3.6/threading.py\u001b[0m in \u001b[0;36mwait\u001b[0;34m(self, timeout)\u001b[0m\n\u001b[1;32m    293\u001b[0m         \u001b[0;32mtry\u001b[0m\u001b[0;34m:\u001b[0m    \u001b[0;31m# restore state no matter what (e.g., KeyboardInterrupt)\u001b[0m\u001b[0;34m\u001b[0m\u001b[0m\n\u001b[1;32m    294\u001b[0m             \u001b[0;32mif\u001b[0m \u001b[0mtimeout\u001b[0m \u001b[0;32mis\u001b[0m \u001b[0;32mNone\u001b[0m\u001b[0;34m:\u001b[0m\u001b[0;34m\u001b[0m\u001b[0m\n\u001b[0;32m--> 295\u001b[0;31m                 \u001b[0mwaiter\u001b[0m\u001b[0;34m.\u001b[0m\u001b[0macquire\u001b[0m\u001b[0;34m(\u001b[0m\u001b[0;34m)\u001b[0m\u001b[0;34m\u001b[0m\u001b[0m\n\u001b[0m\u001b[1;32m    296\u001b[0m                 \u001b[0mgotit\u001b[0m \u001b[0;34m=\u001b[0m \u001b[0;32mTrue\u001b[0m\u001b[0;34m\u001b[0m\u001b[0m\n\u001b[1;32m    297\u001b[0m             \u001b[0;32melse\u001b[0m\u001b[0;34m:\u001b[0m\u001b[0;34m\u001b[0m\u001b[0m\n",
      "\u001b[0;31mKeyboardInterrupt\u001b[0m: "
     ]
    },
    {
     "data": {
      "image/png": "[encoded data removed]",
      "text/plain": [
       "<Figure size 432x288 with 1 Axes>"
      ]
     },
     "metadata": {},
     "output_type": "display_data"
    }
   ],
   "source": [
    "title = \"Learning Curves with PCA (KNN)\"\n",
    "plot_learning_curve(estimator, title, x_pca, y_pca, ylim=(0.0, 1.0), cv=cv, n_jobs=4)\n",
    "\n",
    "plt.show()"
   ]
  },
  {
   "cell_type": "code",
   "execution_count": null,
   "metadata": {},
   "outputs": [],
   "source": [
    "# Se entrena el modelo\n",
    "knn.fit(X_train, y_train)\n",
    "\n",
    "# Se predice la efectividad de la precisión\n",
    "pred = knn.predict(X_test)\n",
    "\n",
    "from sklearn.metrics import accuracy_score\n",
    "\n",
    "# Se entrena el modelo con PCA\n",
    "knn.fit(X_train_PCA, y_train_PCA)\n",
    "\n",
    "# Se predice la efectividad de la precisión con PCA\n",
    "pred_pca = knn.predict(X_test_PCA)\n",
    "\n",
    "# Se evalua la precisión\n",
    "print('Puntaje de precisión \\n \\n \\t Sin preprocesamiento PCA:'\n",
    "      ,accuracy_score(y_test, pred),'\\n \\t Con preprocesamiento PCA:'\n",
    "      ,accuracy_score(y_test_PCA, pred_pca))"
   ]
  },
  {
   "cell_type": "markdown",
   "metadata": {},
   "source": [
    "Se nota que con preprocesamiento PCA hay mejores resultados, pero no significativamente."
   ]
  },
  {
   "cell_type": "markdown",
   "metadata": {},
   "source": [
    "# Decission Tree\n",
    "\n",
    "Se nota que el balanceo de los datos mejora con el número de datos de entrenamiento, notándose que con más de 3000 datos se alcanza el mejor desempeño del método de aprendizaje automático."
   ]
  },
  {
   "cell_type": "code",
   "execution_count": null,
   "metadata": {},
   "outputs": [],
   "source": [
    "from sklearn import tree\n",
    "dt = tree.DecisionTreeClassifier(max_depth = 6)\n",
    "# Si se balancea baja el porcentaje a 8%, el presort no tiene efecto, el balanceo de peso reduce el puntaje\n",
    "\n",
    "title = \"Learning Curves (Decision Trees)\"\n",
    "# Cross validation with 100 iterations to get smoother mean test and train\n",
    "# score curves, each time with 20% data randomly selected as a validation set.\n",
    "cv = ShuffleSplit(n_splits=10, test_size=0.25, random_state=0)\n",
    "estimator = dt\n",
    "plot_learning_curve(estimator, title, x, y, ylim=(0.0, 1.0), cv=cv, n_jobs=4)\n",
    "\n",
    "plt.show()"
   ]
  },
  {
   "cell_type": "code",
   "execution_count": null,
   "metadata": {},
   "outputs": [],
   "source": [
    "title = \"Learning Curves with PCA (Decision Trees)\"\n",
    "plot_learning_curve(estimator, title, x_pca, y_pca, ylim=(0.0, 1.0), cv=cv, n_jobs=4)\n",
    "\n",
    "plt.show()"
   ]
  },
  {
   "cell_type": "code",
   "execution_count": null,
   "metadata": {},
   "outputs": [],
   "source": [
    "dt.fit(X_train, y_train)\n",
    "\n",
    "# predict the response\n",
    "pred = dt.predict(X_test)\n",
    "\n",
    "# Se entrena el modelo con PCA\n",
    "dt.fit(X_train_PCA, y_train_PCA)\n",
    "\n",
    "# Se predice la efectividad de la precisión con PCA\n",
    "pred_pca = dt.predict(X_test_PCA)\n",
    "\n",
    "# Se evalua la precisión\n",
    "print('Puntaje de precisión \\n \\n \\t Sin preprocesamiento PCA:'\n",
    "      ,accuracy_score(y_test, pred),'\\n \\t Con preprocesamiento PCA:'\n",
    "      ,accuracy_score(y_test_PCA, pred_pca))"
   ]
  },
  {
   "cell_type": "markdown",
   "metadata": {},
   "source": [
    "Se ve que el rendimiento mejora poco significativamente cuando se le aplica PCA previamente."
   ]
  },
  {
   "cell_type": "markdown",
   "metadata": {},
   "source": [
    "# Random Forest\n",
    "\n",
    "Se nota que los datos convergen al mejor balanceo por alrededor de más de 3000."
   ]
  },
  {
   "cell_type": "code",
   "execution_count": null,
   "metadata": {},
   "outputs": [],
   "source": [
    "from sklearn.ensemble import RandomForestClassifier\n",
    "rf = RandomForestClassifier(max_depth=6, random_state=50)\n",
    "# La mejor predicción es alcanzada cuando la profundidad es de 6, entre los valores probados de llave para\n",
    "# la generación aleatoria de ordenamiento 50 fue el mejor. El balanceo disminuye el rendimiento\n",
    "\n",
    "title = \"Learning Curves (Random Forest)\"\n",
    "# Cross validation with 100 iterations to get smoother mean test and train\n",
    "# score curves, each time with 20% data randomly selected as a validation set.\n",
    "cv = ShuffleSplit(n_splits=10, test_size=0.25, random_state=0)\n",
    "estimator = rf\n",
    "plot_learning_curve(estimator, title, x, y, ylim=(0.0, 1.0), cv=cv, n_jobs=4)\n",
    "\n",
    "plt.show()"
   ]
  },
  {
   "cell_type": "code",
   "execution_count": null,
   "metadata": {},
   "outputs": [],
   "source": [
    "title = \"Learning Curves with PCA (Random Forest)\"\n",
    "plot_learning_curve(estimator, title, x_pca, y_pca, ylim=(0.0, 1.0), cv=cv, n_jobs=4)\n",
    "\n",
    "plt.show()"
   ]
  },
  {
   "cell_type": "code",
   "execution_count": null,
   "metadata": {},
   "outputs": [],
   "source": [
    "rf.fit(X_train, y_train)\n",
    "\n",
    "# predict the response\n",
    "pred = rf.predict(X_test)\n",
    "\n",
    "# Se entrena el modelo con PCA\n",
    "rf.fit(X_train_PCA, y_train_PCA)\n",
    "\n",
    "# Se predice la efectividad de la precisión con PCA\n",
    "pred_pca = rf.predict(X_test_PCA)\n",
    "\n",
    "# Se evalua la precisión\n",
    "print('Puntaje de precisión \\n \\n \\t Sin preprocesamiento PCA:'\n",
    "      ,accuracy_score(y_test, pred),'\\n \\t Con preprocesamiento PCA:'\n",
    "      ,accuracy_score(y_test_PCA, pred_pca))"
   ]
  },
  {
   "cell_type": "markdown",
   "metadata": {},
   "source": [
    "Se ve que el rendimiento es del 27% es el mejor resultado cuando los datos no han sido preprocesados por PCA."
   ]
  },
  {
   "cell_type": "markdown",
   "metadata": {},
   "source": [
    "# Naive Bayes\n",
    "\n",
    "## Gaussiano\n",
    "\n",
    "Se nota que los valores tienen un buen balanceo después de 2250, alrededor de un poco más de 3000 se logran los mejores resultados."
   ]
  },
  {
   "cell_type": "code",
   "execution_count": null,
   "metadata": {},
   "outputs": [],
   "source": [
    "from sklearn.naive_bayes import GaussianNB\n",
    "gnb = GaussianNB()\n",
    "# La mejor predicción es alcanzada cuando la profundidad es de 6, entre los valores probados de llave para\n",
    "# la generación aleatoria de ordenamiento 50 fue el mejor. El balanceo disminuye el rendimiento\n",
    "title = \"Learning Curves (Naive Bayes Gaussiano)\"\n",
    "# Cross validation with 100 iterations to get smoother mean test and train\n",
    "# score curves, each time with 20% data randomly selected as a validation set.\n",
    "cv = ShuffleSplit(n_splits=10, test_size=0.25, random_state=0)\n",
    "estimator = gnb\n",
    "plot_learning_curve(estimator, title, x, y, ylim=(0.0, 1.0), cv=cv, n_jobs=4)\n",
    "\n",
    "plt.show()"
   ]
  },
  {
   "cell_type": "code",
   "execution_count": null,
   "metadata": {},
   "outputs": [],
   "source": [
    "title = \"Learning Curves with PCA (Naive Bayes Gaussiano)\"\n",
    "plot_learning_curve(estimator, title, x_pca, y_pca, ylim=(0.0, 1.0), cv=cv, n_jobs=4)\n",
    "\n",
    "plt.show()"
   ]
  },
  {
   "cell_type": "code",
   "execution_count": null,
   "metadata": {},
   "outputs": [],
   "source": [
    "gnb.fit(X_train, y_train)\n",
    "\n",
    "# predict the response\n",
    "pred = gnb.predict(X_test)\n",
    "\n",
    "# Se entrena el modelo con PCA\n",
    "gnb.fit(X_train_PCA, y_train_PCA)\n",
    "\n",
    "# Se predice la efectividad de la precisión con PCA\n",
    "pred_pca = gnb.predict(X_test_PCA)\n",
    "\n",
    "# Se evalua la precisión\n",
    "print('Puntaje de precisión \\n \\n \\t Sin preprocesamiento PCA:'\n",
    "      ,accuracy_score(y_test, pred),'\\n \\t Con preprocesamiento PCA:'\n",
    "      ,accuracy_score(y_test_PCA, pred_pca))"
   ]
  },
  {
   "cell_type": "markdown",
   "metadata": {},
   "source": [
    "Se dice que por medio de preprocesamiento de PCA se consiguen los mejores resultados de alrededor de 26.8%."
   ]
  },
  {
   "cell_type": "markdown",
   "metadata": {},
   "source": [
    "## Bernoulli\n",
    "\n",
    "Se nota que los valores convergen al mejor balanceo después de 2250."
   ]
  },
  {
   "cell_type": "code",
   "execution_count": null,
   "metadata": {},
   "outputs": [],
   "source": [
    "from sklearn.naive_bayes import BernoulliNB\n",
    "bnb = BernoulliNB()\n",
    "# Los cambios en alpha no son muy efectivos, sigue manteniendo el rendimiento, los demás parámetros no son muy\n",
    "# efectivos\n",
    "title = \"Learning Curves (Naive Bayes Bernoulli)\"\n",
    "# Cross validation with 100 iterations to get smoother mean test and train\n",
    "# score curves, each time with 20% data randomly selected as a validation set.\n",
    "cv = ShuffleSplit(n_splits=10, test_size=0.25, random_state=0)\n",
    "estimator = bnb\n",
    "plot_learning_curve(estimator, title, x, y, ylim=(0.0, 1.0), cv=cv, n_jobs=4)\n",
    "\n",
    "plt.show()"
   ]
  },
  {
   "cell_type": "code",
   "execution_count": null,
   "metadata": {},
   "outputs": [],
   "source": [
    "title = \"Learning Curves with PCA (Naive Bayes Bernoulli)\"\n",
    "plot_learning_curve(estimator, title, x_pca, y_pca, ylim=(0.0, 1.0), cv=cv, n_jobs=4)\n",
    "\n",
    "plt.show()"
   ]
  },
  {
   "cell_type": "code",
   "execution_count": null,
   "metadata": {},
   "outputs": [],
   "source": [
    "bnb.fit(X_train, y_train)\n",
    "\n",
    "# predict the response\n",
    "pred = bnb.predict(X_test)\n",
    "\n",
    "# Se entrena el modelo con PCA\n",
    "bnb.fit(X_train_PCA, y_train_PCA)\n",
    "\n",
    "# Se predice la efectividad de la precisión con PCA\n",
    "pred_pca = bnb.predict(X_test_PCA)\n",
    "\n",
    "# Se evalua la precisión\n",
    "print('Puntaje de precisión \\n \\n \\t Sin preprocesamiento PCA:'\n",
    "      ,accuracy_score(y_test, pred),'\\n \\t Con preprocesamiento PCA:'\n",
    "      ,accuracy_score(y_test_PCA, pred_pca))"
   ]
  },
  {
   "cell_type": "markdown",
   "metadata": {},
   "source": [
    "Se nota que sin preprocesamiento PCA hay un mejor resultado en el puntaje."
   ]
  },
  {
   "cell_type": "markdown",
   "metadata": {},
   "source": [
    "# SVM\n",
    "\n",
    "## SVC con Kernel Lineal\n",
    "\n",
    "Se nota que los valores convergen al mejor balanceo después de 3000 datos de entrenamiento."
   ]
  },
  {
   "cell_type": "code",
   "execution_count": null,
   "metadata": {},
   "outputs": [],
   "source": [
    "from sklearn import svm\n",
    "svm = svm.SVC(kernel = 'linear', C = 1, gamma = 'auto')\n",
    "# Los cambios en el parámetro C o gamma no cambian el puntaje de la muestra\n",
    "\n",
    "title = \"Learning Curves (SVM con Kernel Lineal)\"\n",
    "# Cross validation with 100 iterations to get smoother mean test and train\n",
    "# score curves, each time with 20% data randomly selected as a validation set.\n",
    "cv = ShuffleSplit(n_splits=10, test_size=0.25, random_state=0)\n",
    "estimator = svm\n",
    "plot_learning_curve(estimator, title, x, y, ylim=(0.0, 1.0), cv=cv, n_jobs=4)\n",
    "\n",
    "plt.show()"
   ]
  },
  {
   "cell_type": "code",
   "execution_count": null,
   "metadata": {},
   "outputs": [],
   "source": [
    "title = \"Learning Curves with PCA (SVM con Kernel Lineal)\"\n",
    "plot_learning_curve(estimator, title, x_pca, y_pca, ylim=(0.0, 1.0), cv=cv, n_jobs=4)\n",
    "\n",
    "plt.show()"
   ]
  },
  {
   "cell_type": "code",
   "execution_count": null,
   "metadata": {},
   "outputs": [],
   "source": [
    "svm.fit(X_train, y_train)\n",
    "\n",
    "# predict the response\n",
    "pred = svm.predict(X_test)\n",
    "\n",
    "# Se entrena el modelo con PCA\n",
    "svm.fit(X_train_PCA, y_train_PCA)\n",
    "\n",
    "# Se predice la efectividad de la precisión con PCA\n",
    "pred_pca = svm.predict(X_test_PCA)\n",
    "\n",
    "# Se evalua la precisión\n",
    "print('Puntaje de precisión \\n \\n \\t Sin preprocesamiento PCA:'\n",
    "      ,accuracy_score(y_test, pred),'\\n \\t Con preprocesamiento PCA:'\n",
    "      ,accuracy_score(y_test_PCA, pred_pca))"
   ]
  },
  {
   "cell_type": "markdown",
   "metadata": {},
   "source": [
    "Se observa que los mejores valores son alcanzados cuando no se realizó el preprocesamiento con PCA."
   ]
  },
  {
   "cell_type": "markdown",
   "metadata": {},
   "source": [
    "## SVM con Kernel RBF\n",
    "\n",
    "Se nota que el puntaje de entrenamiento y prueba mejoran con más datos de entrenamiento."
   ]
  },
  {
   "cell_type": "code",
   "execution_count": null,
   "metadata": {},
   "outputs": [],
   "source": [
    "from sklearn import svm\n",
    "svm = svm.SVC(kernel='rbf', C = 0.1, gamma = 0.5)\n",
    "# Los cambios en el parámetro C no cambian el puntaje de la muestra sustancialmente.\n",
    "# Interesantemente, con un gamma de 0.5 se obtiene el mismo porcentaje de rendimiento y mejor\n",
    "title = \"Learning Curves (SVM con Kernel RBF)\"\n",
    "# Cross validation with 100 iterations to get smoother mean test and train\n",
    "# score curves, each time with 20% data randomly selected as a validation set.\n",
    "cv = ShuffleSplit(n_splits=10, test_size=0.25, random_state=0)\n",
    "estimator = svm\n",
    "plot_learning_curve(estimator, title, x, y, ylim=(0.0, 1.0), cv=cv, n_jobs=4)\n",
    "plt.show()"
   ]
  },
  {
   "cell_type": "code",
   "execution_count": null,
   "metadata": {},
   "outputs": [],
   "source": [
    "title = \"Learning Curves with PCA (SVM con Kernel RBF)\"\n",
    "plot_learning_curve(estimator, title, x_pca, y_pca, ylim=(0.0, 1.0), cv=cv, n_jobs=4)\n",
    "\n",
    "plt.show()"
   ]
  },
  {
   "cell_type": "code",
   "execution_count": null,
   "metadata": {},
   "outputs": [],
   "source": [
    "svm.fit(X_train, y_train)\n",
    "\n",
    "# predict the response\n",
    "pred = svm.predict(X_test)\n",
    "\n",
    "# Se entrena el modelo con PCA\n",
    "svm.fit(X_train_PCA, y_train_PCA)\n",
    "\n",
    "# Se predice la efectividad de la precisión con PCA\n",
    "pred_pca = svm.predict(X_test_PCA)\n",
    "\n",
    "# Se evalua la precisión\n",
    "print('Puntaje de precisión \\n \\n \\t Sin preprocesamiento PCA:'\n",
    "      ,accuracy_score(y_test, pred),'\\n \\t Con preprocesamiento PCA:'\n",
    "      ,accuracy_score(y_test_PCA, pred_pca))"
   ]
  },
  {
   "cell_type": "markdown",
   "metadata": {},
   "source": [
    "Se observa que los mejores resultados se obtienen cuando se realiza preprocesamiento PCA."
   ]
  },
  {
   "cell_type": "markdown",
   "metadata": {},
   "source": [
    "## SVM con Kernel Polinomial\n",
    "\n",
    "Se nota que los datos convergen al mejor balanceo cuando hay más datos de entrenamiento, notándose el mejor valor cuando se usan más de 3000 datos."
   ]
  },
  {
   "cell_type": "code",
   "execution_count": null,
   "metadata": {},
   "outputs": [],
   "source": [
    "from sklearn import svm\n",
    "svm = svm.SVC(kernel='poly', C = 0.5, gamma = 1, degree = 1)\n",
    "# Se probó con grados del 1 al 3, y 1 tuvo el mejor puntaje, si se hace de grado mayor a 4 mi computadora no\n",
    "# hacía converger el valor. Los parámetros de C y gamma son los mejores probados\n",
    "title = \"Learning Curves (SVM con Kernel Polinomial)\"\n",
    "# Cross validation with 100 iterations to get smoother mean test and train\n",
    "# score curves, each time with 20% data randomly selected as a validation set.\n",
    "cv = ShuffleSplit(n_splits=10, test_size=0.25, random_state=0)\n",
    "estimator = svm\n",
    "plot_learning_curve(estimator, title, x, y, ylim=(0.0, 1.0), cv=cv, n_jobs=4)\n",
    "\n",
    "plt.show()"
   ]
  },
  {
   "cell_type": "code",
   "execution_count": null,
   "metadata": {},
   "outputs": [],
   "source": [
    "title = \"Learning Curves with PCA (SVM con Kernel Polinomial)\"\n",
    "plot_learning_curve(estimator, title, x_pca, y_pca, ylim=(0.0, 1.0), cv=cv, n_jobs=4)\n",
    "\n",
    "plt.show()"
   ]
  },
  {
   "cell_type": "code",
   "execution_count": null,
   "metadata": {},
   "outputs": [],
   "source": [
    "svm.fit(X_train, y_train)\n",
    "\n",
    "# predict the response\n",
    "pred = svm.predict(X_test)\n",
    "\n",
    "# Se entrena el modelo con PCA\n",
    "svm.fit(X_train_PCA, y_train_PCA)\n",
    "\n",
    "# Se predice la efectividad de la precisión con PCA\n",
    "pred_pca = svm.predict(X_test_PCA)\n",
    "\n",
    "# Se evalua la precisión\n",
    "print('Puntaje de precisión \\n \\n \\t Sin preprocesamiento PCA:'\n",
    "      ,accuracy_score(y_test, pred),'\\n \\t Con preprocesamiento PCA:'\n",
    "      ,accuracy_score(y_test_PCA, pred_pca))"
   ]
  },
  {
   "cell_type": "markdown",
   "metadata": {},
   "source": [
    "Se observa que el mejor resultado se alcanza cuando no se le hace preprocesamiento con PCA."
   ]
  },
  {
   "cell_type": "markdown",
   "metadata": {},
   "source": [
    "## SVM con Kernel Sigmoid\n",
    "\n",
    "Se nota un interesante comportamiento de los datos donde los puntajes de entrenamiento y prueba se encuentran muy unidos entre sí."
   ]
  },
  {
   "cell_type": "code",
   "execution_count": null,
   "metadata": {},
   "outputs": [],
   "source": [
    "from sklearn import svm\n",
    "svm = svm.SVC(kernel='sigmoid')\n",
    "# Los mejores resultados se alcanzan con los parámetros por defecto\n",
    "title = \"Learning Curves (SVM con Kernel Sigmoid)\"\n",
    "# Cross validation with 100 iterations to get smoother mean test and train\n",
    "# score curves, each time with 20% data randomly selected as a validation set.\n",
    "cv = ShuffleSplit(n_splits=10, test_size=0.25, random_state=0)\n",
    "estimator = svm\n",
    "plot_learning_curve(estimator, title, x, y, ylim=(0.0, 1.0), cv=cv, n_jobs=4)\n",
    "\n",
    "plt.show()"
   ]
  },
  {
   "cell_type": "code",
   "execution_count": null,
   "metadata": {},
   "outputs": [],
   "source": [
    "title = \"Learning Curves with PCA (SVM con Kernel Sigmoid)\"\n",
    "plot_learning_curve(estimator, title, x_pca, y_pca, ylim=(0.0, 1.0), cv=cv, n_jobs=4)\n",
    "\n",
    "plt.show()"
   ]
  },
  {
   "cell_type": "code",
   "execution_count": null,
   "metadata": {},
   "outputs": [],
   "source": [
    "svm.fit(X_train, y_train)\n",
    "\n",
    "# predict the response\n",
    "pred = svm.predict(X_test)\n",
    "\n",
    "# Se entrena el modelo con PCA\n",
    "svm.fit(X_train_PCA, y_train_PCA)\n",
    "\n",
    "# Se predice la efectividad de la precisión con PCA\n",
    "pred_pca = svm.predict(X_test_PCA)\n",
    "\n",
    "# Se evalua la precisión\n",
    "print('Puntaje de precisión \\n \\n \\t Sin preprocesamiento PCA:'\n",
    "      ,accuracy_score(y_test, pred),'\\n \\t Con preprocesamiento PCA:'\n",
    "      ,accuracy_score(y_test_PCA, pred_pca))"
   ]
  },
  {
   "cell_type": "markdown",
   "metadata": {},
   "source": [
    "Los mejores resultados se alcanzan cuando no se le realizó preprocesamiento, sin embargo tienen un desempeño bastante pobre."
   ]
  },
  {
   "cell_type": "markdown",
   "metadata": {},
   "source": [
    "# Logistic Regression con regularización L1\n",
    "\n",
    "Se nota que los datos se convergen a un mejor balanceo cuando hay más datos de entrenamiento."
   ]
  },
  {
   "cell_type": "code",
   "execution_count": null,
   "metadata": {},
   "outputs": [],
   "source": [
    "from sklearn import linear_model\n",
    "\n",
    "logistic = linear_model.LogisticRegression(penalty = 'l1')\n",
    "# Los parámetros daban el mismo valor, se escogieron parámetros que duraran menos entrenando el modelo\n",
    "title = \"Learning Curves (Logistic Regression L1)\"\n",
    "# Cross validation with 100 iterations to get smoother mean test and train\n",
    "# score curves, each time with 20% data randomly selected as a validation set.\n",
    "cv = ShuffleSplit(n_splits=10, test_size=0.25, random_state=0)\n",
    "estimator = logistic\n",
    "plot_learning_curve(estimator, title, x, y, ylim=(0.0, 1.0), cv=cv, n_jobs=4)\n",
    "\n",
    "plt.show()"
   ]
  },
  {
   "cell_type": "code",
   "execution_count": null,
   "metadata": {},
   "outputs": [],
   "source": [
    "title = \"Learning Curves with PCA (Logistic Regression L1)\"\n",
    "plot_learning_curve(estimator, title, x_pca, y_pca, ylim=(0.0, 1.0), cv=cv, n_jobs=4)\n",
    "\n",
    "plt.show()"
   ]
  },
  {
   "cell_type": "code",
   "execution_count": null,
   "metadata": {},
   "outputs": [],
   "source": [
    "logistic.fit(X_train, y_train)\n",
    "\n",
    "# predict the response\n",
    "pred = logistic.predict(X_test)\n",
    "\n",
    "# Se entrena el modelo con PCA\n",
    "logistic.fit(X_train_PCA, y_train_PCA)\n",
    "\n",
    "# Se predice la efectividad de la precisión con PCA\n",
    "pred_pca = logistic.predict(X_test_PCA)\n",
    "\n",
    "# Se evalua la precisión\n",
    "print('Puntaje de precisión \\n \\n \\t Sin preprocesamiento PCA:'\n",
    "      ,accuracy_score(y_test, pred),'\\n \\t Con preprocesamiento PCA:'\n",
    "      ,accuracy_score(y_test_PCA, pred_pca))"
   ]
  },
  {
   "cell_type": "markdown",
   "metadata": {},
   "source": [
    "Se observa un mejor resultado sin preprocesamiento PCA"
   ]
  },
  {
   "cell_type": "markdown",
   "metadata": {},
   "source": [
    "# Logistic Regression con regularización L2\n",
    "\n",
    "Se nota que el mejor balanceo de los datos se logra cuando se usan más de 3000 datos de entrenamiento."
   ]
  },
  {
   "cell_type": "code",
   "execution_count": null,
   "metadata": {},
   "outputs": [],
   "source": [
    "from sklearn import linear_model\n",
    "logistic = linear_model.LogisticRegression(penalty = 'l2')\n",
    "# Los parámetros daban el mismo valor, se escogieron parámetros que duraran menos entrenando el modelo\n",
    "title = \"Learning Curves (Logistic Regression L2)\"\n",
    "# Cross validation with 100 iterations to get smoother mean test and train\n",
    "# score curves, each time with 20% data randomly selected as a validation set.\n",
    "cv = ShuffleSplit(n_splits=10, test_size=0.25, random_state=0)\n",
    "estimator = logistic\n",
    "plot_learning_curve(estimator, title, x, y, ylim=(0.0, 1.0), cv=cv, n_jobs=4)\n",
    "\n",
    "plt.show()"
   ]
  },
  {
   "cell_type": "code",
   "execution_count": null,
   "metadata": {},
   "outputs": [],
   "source": [
    "title = \"Learning Curves with PCA (Logistic Regression L2)\"\n",
    "plot_learning_curve(estimator, title, x_pca, y_pca, ylim=(0.0, 1.0), cv=cv, n_jobs=4)\n",
    "\n",
    "plt.show()"
   ]
  },
  {
   "cell_type": "code",
   "execution_count": null,
   "metadata": {},
   "outputs": [],
   "source": [
    "logistic.fit(X_train, y_train)\n",
    "\n",
    "# predict the response\n",
    "pred = logistic.predict(X_test)\n",
    "\n",
    "# Se entrena el modelo con PCA\n",
    "logistic.fit(X_train_PCA, y_train_PCA)\n",
    "\n",
    "# Se predice la efectividad de la precisión con PCA\n",
    "pred_pca = logistic.predict(X_test_PCA)\n",
    "\n",
    "# Se evalua la precisión\n",
    "print('Puntaje de precisión \\n \\n \\t Sin preprocesamiento PCA:'\n",
    "      ,accuracy_score(y_test, pred),'\\n \\t Con preprocesamiento PCA:'\n",
    "      ,accuracy_score(y_test_PCA, pred_pca))"
   ]
  },
  {
   "cell_type": "markdown",
   "metadata": {},
   "source": [
    "Se observa que ya sea con regularización L1 o L2 se obtienen resultados similares y que el mejor resultado es alcanzado cuando no se realiza preprocesamiento con PCA."
   ]
  },
  {
   "cell_type": "markdown",
   "metadata": {},
   "source": [
    "# Clasificador Pasivo Agresivo\n",
    "### (No estaba en el track)\n",
    "\n",
    "Se nota un comportamiento bastante interesante donde se ve que los datos de entrenamiento \"siguen\" a los de prueba. Los mejores resultados se alcanzan con alrededor de 1600 datos de entrenamiento, sin embargo se usan los 3000 datos de entrenamiento para comparar el desempeño con el resto de algoritmos."
   ]
  },
  {
   "cell_type": "code",
   "execution_count": null,
   "metadata": {},
   "outputs": [],
   "source": [
    "from sklearn.linear_model import PassiveAggressiveClassifier\n",
    "pa = PassiveAggressiveClassifier()\n",
    "# Los parámetros daban el mismo valor, se escogieron parámetros que duraran menos entrenando el modelo\n",
    "title = \"Learning Curves (Passive Agressive)\"\n",
    "# Cross validation with 100 iterations to get smoother mean test and train\n",
    "# score curves, each time with 20% data randomly selected as a validation set.\n",
    "cv = ShuffleSplit(n_splits=5, test_size=0.25, random_state=0)\n",
    "estimator = PassiveAggressiveClassifier()\n",
    "plot_learning_curve(estimator, title, x, y, ylim=(0.0, 1.0), cv=cv, n_jobs=4)\n",
    "\n",
    "plt.show()"
   ]
  },
  {
   "cell_type": "code",
   "execution_count": null,
   "metadata": {},
   "outputs": [],
   "source": [
    "title = \"Learning Curves with PCA (Passive Agressive)\"\n",
    "plot_learning_curve(estimator, title, x_pca, y_pca, ylim=(0.0, 1.0), cv=cv, n_jobs=4)\n",
    "\n",
    "plt.show()"
   ]
  },
  {
   "cell_type": "code",
   "execution_count": null,
   "metadata": {},
   "outputs": [],
   "source": [
    "pa.fit(X_train, y_train)\n",
    "\n",
    "# predict the response\n",
    "pred = pa.predict(X_test)\n",
    "\n",
    "# Se entrena el modelo con PCA\n",
    "pa.fit(X_train_PCA, y_train_PCA)\n",
    "\n",
    "# Se predice la efectividad de la precisión con PCA\n",
    "pred_pca = pa.predict(X_test_PCA)\n",
    "\n",
    "# Se evalua la precisión\n",
    "print('Puntaje de precisión \\n \\n \\t Sin preprocesamiento PCA:'\n",
    "      ,accuracy_score(y_test, pred),'\\n \\t Con preprocesamiento PCA:'\n",
    "      ,accuracy_score(y_test_PCA, pred_pca))"
   ]
  },
  {
   "cell_type": "markdown",
   "metadata": {},
   "source": [
    "Se nota que el mejor resultado se obtiene cuando no se realiza el preprocesamiento por medi de PCA."
   ]
  },
  {
   "cell_type": "markdown",
   "metadata": {},
   "source": [
    "# Adaboost\n",
    "\n",
    "### (No estaba en el track)\n",
    "\n",
    "Se nota que los puntajes de entrenamiento y prueba son bastantes similares, sin embargo, el mejor balanceo de datos se logra cuando hay 3000 datos."
   ]
  },
  {
   "cell_type": "code",
   "execution_count": null,
   "metadata": {},
   "outputs": [],
   "source": [
    "from sklearn.ensemble import AdaBoostClassifier\n",
    "ab = AdaBoostClassifier(n_estimators = 50, algorithm = 'SAMME')\n",
    "# Se notó que con el algoritmo SAMME, con n_estimators = 50, daba mejores resultados\n",
    "title = \"Learning Curves (Adaboost)\"\n",
    "# Cross validation with 100 iterations to get smoother mean test and train\n",
    "# score curves, each time with 20% data randomly selected as a validation set.\n",
    "cv = ShuffleSplit(n_splits=5, test_size=0.25, random_state=0)\n",
    "estimator = ab\n",
    "plot_learning_curve(estimator, title, x, y, ylim=(0.0, 1.0), cv=cv, n_jobs=4)\n",
    "\n",
    "plt.show()"
   ]
  },
  {
   "cell_type": "code",
   "execution_count": null,
   "metadata": {},
   "outputs": [],
   "source": [
    "title = \"Learning Curves with PCA (Adaboost)\"\n",
    "plot_learning_curve(estimator, title, x_pca, y_pca, ylim=(0.0, 1.0), cv=cv, n_jobs=4)\n",
    "\n",
    "plt.show()"
   ]
  },
  {
   "cell_type": "code",
   "execution_count": null,
   "metadata": {},
   "outputs": [],
   "source": [
    "ab.fit(X_train, y_train)\n",
    "\n",
    "# predict the response\n",
    "pred = ab.predict(X_test)\n",
    "\n",
    "# Se entrena el modelo con PCA\n",
    "ab.fit(X_train_PCA, y_train_PCA)\n",
    "\n",
    "# Se predice la efectividad de la precisión con PCA\n",
    "pred_pca = ab.predict(X_test_PCA)\n",
    "\n",
    "# Se evalua la precisión\n",
    "print('Puntaje de precisión \\n \\n \\t Sin preprocesamiento PCA:'\n",
    "      ,accuracy_score(y_test, pred),'\\n \\t Con preprocesamiento PCA:'\n",
    "      ,accuracy_score(y_test_PCA, pred_pca))"
   ]
  },
  {
   "cell_type": "markdown",
   "metadata": {},
   "source": [
    "Se nota que el mejor resultado se alcanza cuando no se realiza el preprocesamiento por medio de PCA."
   ]
  },
  {
   "cell_type": "markdown",
   "metadata": {},
   "source": [
    "# Lineal Discriminant Analysis\n",
    "### (No estaba en el track)\n",
    "\n",
    "Se nota que los datos convergen al mejor balanceo con más de 3000 datos de entrenamiento."
   ]
  },
  {
   "cell_type": "code",
   "execution_count": null,
   "metadata": {},
   "outputs": [],
   "source": [
    "from sklearn.discriminant_analysis import LinearDiscriminantAnalysis\n",
    "lda = LinearDiscriminantAnalysis(solver = 'svd')\n",
    "# El solucionador SVD tiene los mejores resultados\n",
    "title = \"Learning Curves (Lineal Discriminant Analysis)\"\n",
    "# Cross validation with 100 iterations to get smoother mean test and train\n",
    "# score curves, each time with 20% data randomly selected as a validation set.\n",
    "cv = ShuffleSplit(n_splits=5, test_size=0.25, random_state=0)\n",
    "estimator = lda\n",
    "plot_learning_curve(estimator, title, x, y, ylim=(0.0, 1.0), cv=cv, n_jobs=4)\n",
    "\n",
    "plt.show()"
   ]
  },
  {
   "cell_type": "code",
   "execution_count": null,
   "metadata": {},
   "outputs": [],
   "source": [
    "title = \"Learning Curves with PCA (Adaboost)\"\n",
    "plot_learning_curve(estimator, title, x_pca, y_pca, ylim=(0.0, 1.0), cv=cv, n_jobs=4)\n",
    "\n",
    "plt.show()"
   ]
  },
  {
   "cell_type": "code",
   "execution_count": null,
   "metadata": {},
   "outputs": [],
   "source": [
    "lda.fit(X_train, y_train)\n",
    "\n",
    "# predict the response\n",
    "pred = lda.predict(X_test)\n",
    "\n",
    "# Se entrena el modelo con PCA\n",
    "lda.fit(X_train_PCA, y_train_PCA)\n",
    "\n",
    "# Se predice la efectividad de la precisión con PCA\n",
    "pred_pca = lda.predict(X_test_PCA)\n",
    "\n",
    "# Se evalua la precisión\n",
    "print('Puntaje de precisión \\n \\n \\t Sin preprocesamiento PCA:'\n",
    "      ,accuracy_score(y_test, pred),'\\n \\t Con preprocesamiento PCA:'\n",
    "      ,accuracy_score(y_test_PCA, pred_pca))"
   ]
  },
  {
   "cell_type": "markdown",
   "metadata": {},
   "source": [
    "Se nota que el mejor resultado es alcanzado cuando no hay preprocesamiento por PCA."
   ]
  },
  {
   "cell_type": "markdown",
   "metadata": {},
   "source": [
    "# Linear Support Vector Classificator \n",
    "### (No estaba en el track)\n",
    "\n",
    "Se nota que el mejor resultado es alcanzado con más de 3000 datos."
   ]
  },
  {
   "cell_type": "code",
   "execution_count": null,
   "metadata": {
    "scrolled": true
   },
   "outputs": [],
   "source": [
    "from sklearn.svm import LinearSVC\n",
    "lsvc = LinearSVC(penalty = 'l2', dual = False, C = 0.5)\n",
    "# Los parámetros daban el mismo valor, se escogieron parámetros que duraran menos entrenando el modelo\n",
    "title = \"Learning Curves (Linear SVC)\"\n",
    "# Cross validation with 100 iterations to get smoother mean test and train\n",
    "# score curves, each time with 20% data randomly selected as a validation set.\n",
    "cv = ShuffleSplit(n_splits=10, test_size=0.25, random_state=0)\n",
    "estimator = lsvc\n",
    "plot_learning_curve(estimator, title, x, y, ylim=(0.0, 1.0), cv=cv, n_jobs=4)\n",
    "\n",
    "plt.show()"
   ]
  },
  {
   "cell_type": "code",
   "execution_count": null,
   "metadata": {},
   "outputs": [],
   "source": [
    "title = \"Learning Curves with PCA (Linear SVC)\"\n",
    "plot_learning_curve(estimator, title, x_pca, y_pca, ylim=(0.0, 1.0), cv=cv, n_jobs=4)\n",
    "\n",
    "plt.show()"
   ]
  },
  {
   "cell_type": "code",
   "execution_count": null,
   "metadata": {},
   "outputs": [],
   "source": [
    "lsvc.fit(X_train, y_train)\n",
    "\n",
    "# predict the response\n",
    "pred = lsvc.predict(X_test)\n",
    "\n",
    "# Se entrena el modelo con PCA\n",
    "lsvc.fit(X_train_PCA, y_train_PCA)\n",
    "\n",
    "# Se predice la efectividad de la precisión con PCA\n",
    "pred_pca = lsvc.predict(X_test_PCA)\n",
    "\n",
    "# Se evalua la precisión\n",
    "print('Puntaje de precisión \\n \\n \\t Sin preprocesamiento PCA:'\n",
    "      ,accuracy_score(y_test, pred),'\\n \\t Con preprocesamiento PCA:'\n",
    "      ,accuracy_score(y_test_PCA, pred_pca))"
   ]
  },
  {
   "cell_type": "markdown",
   "metadata": {},
   "source": [
    "Se nota que el mejor resultado se alcanza cuando no se realiza preprocesamiento por medio de PCA."
   ]
  },
  {
   "cell_type": "markdown",
   "metadata": {},
   "source": [
    "# One vs Rest Classifier con Linear SVC\n",
    "### (No estaba en el track)\n",
    "\n",
    "Se nota que los datos convergen al mejor balanceo después de 2000 datos de entrenamiento. El mejor balanceo de los datos se alcanza con más de 3000 datos de entrenamiento."
   ]
  },
  {
   "cell_type": "code",
   "execution_count": null,
   "metadata": {},
   "outputs": [],
   "source": [
    "from sklearn.svm import LinearSVC\n",
    "from sklearn.multiclass import OneVsRestClassifier\n",
    "\n",
    "ovr = OneVsRestClassifier(LinearSVC())\n",
    "ovr.fit(X_train, y_train)\n",
    "\n",
    "title = \"Learning Curves (One vs rest with Linear SVC)\"\n",
    "# Cross validation with 100 iterations to get smoother mean test and train\n",
    "# score curves, each time with 20% data randomly selected as a validation set.\n",
    "cv = ShuffleSplit(n_splits=5, test_size=0.25, random_state=0)\n",
    "estimator = ovr\n",
    "plot_learning_curve(estimator, title, x, y, ylim=(0.0, 1.0), cv=cv, n_jobs=4)\n",
    "\n",
    "plt.show()"
   ]
  },
  {
   "cell_type": "code",
   "execution_count": null,
   "metadata": {},
   "outputs": [],
   "source": [
    "title = \"Learning Curves with PCA (One vs rest with Linear SVC)\"\n",
    "plot_learning_curve(estimator, title, x_pca, y_pca, ylim=(0.0, 1.0), cv=cv, n_jobs=4)\n",
    "\n",
    "plt.show()"
   ]
  },
  {
   "cell_type": "code",
   "execution_count": null,
   "metadata": {},
   "outputs": [],
   "source": [
    "# predict the response\n",
    "pred = ovr.predict(X_test)\n",
    "\n",
    "# Se entrena el modelo con PCA\n",
    "ovr.fit(X_train_PCA, y_train_PCA)\n",
    "\n",
    "# Se predice la efectividad de la precisión con PCA\n",
    "pred_pca = ovr.predict(X_test_PCA)\n",
    "\n",
    "# Se evalua la precisión\n",
    "print('Puntaje de precisión \\n \\n \\t Sin preprocesamiento PCA:'\n",
    "      ,accuracy_score(y_test, pred),'\\n \\t Con preprocesamiento PCA:'\n",
    "      ,accuracy_score(y_test_PCA, pred_pca))"
   ]
  },
  {
   "cell_type": "markdown",
   "metadata": {},
   "source": [
    "El mejor resultado se alcanza cuando no se realiza el preprocesamiento con PCA."
   ]
  },
  {
   "cell_type": "markdown",
   "metadata": {},
   "source": [
    "# Conclusiones\n",
    "\n",
    "- Se obtuvieron similares o mejores resultados con la mayoría de algoritmos evaluados.\n",
    "- El mejor algoritmo de los evaluados es el Random Forest sin preprocesamiento PCA con un 27.08% de puntaje de aprendizaje.\n",
    "- El mejor puntaje para cuando se realiza preprocesamiento con PCA es alcanzado por el método de Naive Bayes Gaussiano con un 26.98%.\n",
    "- Los métodos de las dos conclusiones anteriores muestran mejores resultados que los algoritmos de las investigaciones previas, incluso redes neuronales las cuales alcanzaron un máximo de 26.25%.\n",
    "- Los peores rendimientos son alcanzados por el Clasificador Pasivo Agresivo con un 11.87% de puntaje cuando se realiza preprocesamiento PCA. Mientras que el peor puntaje sin preprocesamiento PCA es alcanzado por el método SVM con Kernel Sigmoid por un 17.32%.\n",
    "- Los trabajos previos de investigación con este mismo set de datos utilizan 3130 datos de entrenamiento pues el mejor balanceo de los datos es alcanzado en este punto para la mayoría de algoritmos.\n",
    "- En algunos casos el preprocesamiento por PCA da un mejor puntaje que analizar los datos de manera cruda, esto podría representar métodos de aprendizaje automático con un menor requerimiento computacional al tener menos componentes para obtener una predicción.\n",
    "- Todos los algoritmos de aprendizaje automático tienen puntajes menores al 30%, indicando un desempeño pobre en los algoritmos, el cual era esperable debido a los análisis previos.\n",
    "- Se recomienda fuertemente recolectar más datos para el abalone con tal de obtener mejores métricas para clasificación de sus anillos. Así como eliminar algunos atributos que pueda inducir error.\n",
    "- Las curvas de aprendizaje son herramientas con gran utilidad a la hora de escoger el mejor número de datos de entrenamiento y prueba.\n",
    "\n",
    "Un resumen con los puntajes para cada uno de estos métodos se muestran a continuación:\n",
    "\n",
    "KNN\n",
    "- Sin preprocesamiento PCA: 0.25933014354066986 \n",
    "- Con preprocesamiento PCA: 0.24880382775119617\n",
    "\n",
    "Decision Tree\n",
    "- Sin preprocesamiento PCA: 0.2516746411483254 \n",
    "- Con preprocesamiento PCA: 0.2430622009569378\n",
    "\n",
    "Random Forest\n",
    "- Sin preprocesamiento PCA: 0.2708133971291866\n",
    "- Con preprocesamiento PCA: 0.24784688995215312\n",
    "\n",
    "Naive Bayes Gaussiano\n",
    "- Sin preprocesamiento PCA: 0.24593301435406698\n",
    "- Con preprocesamiento PCA: 0.2698564593301435\n",
    "\n",
    "Naive Bayes Bernoulli\n",
    "- Sin preprocesamiento PCA: 0.19138755980861244\n",
    "- Con preprocesamiento PCA: 0.1875598086124402\n",
    "\n",
    "SVC con Kernel Lineal\n",
    "- Sin preprocesamiento PCA: 0.2660287081339713\n",
    "- Con preprocesamiento PCA: 0.23923444976076555\n",
    "\n",
    "SVM con Kernel RBF\n",
    "- Sin preprocesamiento PCA: 0.24114832535885167\n",
    "- Con preprocesamiento PCA: 0.24497607655502393\n",
    "\n",
    "SVM con Kernel Polinomial\n",
    "- Sin preprocesamiento PCA: 0.2602870813397129\n",
    "- Con preprocesamiento PCA: 0.23923444976076555\n",
    "\n",
    "SVM con Kernel Sigmoid\n",
    "- Sin preprocesamiento PCA: 0.17320574162679425\n",
    "- Con preprocesamiento PCA: 0.12440191387559808\n",
    "\n",
    "Logistic Regression L1\n",
    "- Sin preprocesamiento PCA: 0.25933014354066986\n",
    "- Con preprocesamiento PCA: 0.23062200956937798\n",
    "\n",
    "Logistic Regression L2\n",
    "- Sin preprocesamiento PCA: 0.2555023923444976\n",
    "- Con preprocesamiento PCA: 0.23253588516746412\n",
    "\n",
    "Clasificador Pasivo Agresivo\n",
    "- Sin preprocesamiento PCA: 0.19617224880382775\n",
    "- Con preprocesamiento PCA: 0.11866028708133972\n",
    "\n",
    "Adaboost\n",
    "- Sin preprocesamiento PCA: 0.22296650717703348\n",
    "- Con preprocesamiento PCA: 0.21435406698564594\n",
    "\n",
    "Linear Discriminant Analysis\n",
    "- Sin preprocesamiento PCA: 0.2583732057416268\n",
    "- Con preprocesamiento PCA: 0.22775119617224882\n",
    "\n",
    "Linear Support Vector Classificator\n",
    "- Sin preprocesamiento PCA: 0.25263157894736843\n",
    "- Con preprocesamiento PCA: 0.21339712918660286\n",
    "\n",
    "One vs Rest Classifier con Linear SVC\n",
    "- Sin preprocesamiento PCA: 0.2555023923444976\n",
    "- Con preprocesamiento PCA: 0.215311004784689"
   ]
  },
  {
   "cell_type": "code",
   "execution_count": null,
   "metadata": {},
   "outputs": [],
   "source": []
  }
 ],
 "metadata": {
  "kernelspec": {
   "display_name": "Python 3",
   "language": "python",
   "name": "python3"
  },
  "language_info": {
   "codemirror_mode": {
    "name": "ipython",
    "version": 3
   },
   "file_extension": ".py",
   "mimetype": "text/x-python",
   "name": "python",
   "nbconvert_exporter": "python",
   "pygments_lexer": "ipython3",
   "version": "3.6.5"
  }
 },
 "nbformat": 4,
 "nbformat_minor": 2
}
